{
 "cells": [
  {
   "cell_type": "code",
   "execution_count": 2,
   "metadata": {
    "collapsed": true
   },
   "outputs": [],
   "source": [
    "import pandas as pd\n",
    "import re"
   ]
  },
  {
   "cell_type": "code",
   "execution_count": 12,
   "metadata": {
    "collapsed": false
   },
   "outputs": [
    {
     "name": "stdout",
     "output_type": "stream",
     "text": [
      "['[<em class=\"letter\" id=\"infoJiga\">3,402,000</em>]', '[<em class=\"letter\" id=\"infoJiga\">3,401,000</em>]', '[<em class=\"letter\" id=\"infoJiga\">3,400,000</em>]', '[<em class=\"letter\" id=\"infoJiga\">2,000</em>]']\n"
     ]
    }
   ],
   "source": [
    "test_data = ['[<em class=\"letter\" id=\"infoJiga\">3,402,000</em>]','[<em class=\"letter\" id=\"infoJiga\">3,401,000</em>]','[<em class=\"letter\" id=\"infoJiga\">3,400,000</em>]','[<em class=\"letter\" id=\"infoJiga\">2,000</em>]']\n",
    "print(test_data)"
   ]
  },
  {
   "cell_type": "code",
   "execution_count": 13,
   "metadata": {
    "collapsed": false
   },
   "outputs": [
    {
     "data": {
      "text/html": [
       "<div>\n",
       "<table border=\"1\" class=\"dataframe\">\n",
       "  <thead>\n",
       "    <tr style=\"text-align: right;\">\n",
       "      <th></th>\n",
       "      <th>0</th>\n",
       "    </tr>\n",
       "  </thead>\n",
       "  <tbody>\n",
       "    <tr>\n",
       "      <th>0</th>\n",
       "      <td>[&lt;em class=\"letter\" id=\"infoJiga\"&gt;3,402,000&lt;/em&gt;]</td>\n",
       "    </tr>\n",
       "    <tr>\n",
       "      <th>1</th>\n",
       "      <td>[&lt;em class=\"letter\" id=\"infoJiga\"&gt;3,401,000&lt;/em&gt;]</td>\n",
       "    </tr>\n",
       "    <tr>\n",
       "      <th>2</th>\n",
       "      <td>[&lt;em class=\"letter\" id=\"infoJiga\"&gt;3,400,000&lt;/em&gt;]</td>\n",
       "    </tr>\n",
       "    <tr>\n",
       "      <th>3</th>\n",
       "      <td>[&lt;em class=\"letter\" id=\"infoJiga\"&gt;2,000&lt;/em&gt;]</td>\n",
       "    </tr>\n",
       "  </tbody>\n",
       "</table>\n",
       "</div>"
      ],
      "text/plain": [
       "                                                   0\n",
       "0  [<em class=\"letter\" id=\"infoJiga\">3,402,000</em>]\n",
       "1  [<em class=\"letter\" id=\"infoJiga\">3,401,000</em>]\n",
       "2  [<em class=\"letter\" id=\"infoJiga\">3,400,000</em>]\n",
       "3      [<em class=\"letter\" id=\"infoJiga\">2,000</em>]"
      ]
     },
     "execution_count": 13,
     "metadata": {},
     "output_type": "execute_result"
    }
   ],
   "source": [
    "df = pd.DataFrame(test_data)\n",
    "df.head()"
   ]
  },
  {
   "cell_type": "code",
   "execution_count": 10,
   "metadata": {
    "collapsed": true
   },
   "outputs": [],
   "source": [
    "def get_numeric(data):\n",
    "    match = re.search('>(.+)<', data)\n",
    "    if match:\n",
    "        return int(match.group(1).replace(',',''))\n",
    "    \n",
    "    return None"
   ]
  },
  {
   "cell_type": "code",
   "execution_count": 11,
   "metadata": {
    "collapsed": false
   },
   "outputs": [
    {
     "data": {
      "text/html": [
       "<div>\n",
       "<table border=\"1\" class=\"dataframe\">\n",
       "  <thead>\n",
       "    <tr style=\"text-align: right;\">\n",
       "      <th></th>\n",
       "      <th>0</th>\n",
       "      <th>1</th>\n",
       "    </tr>\n",
       "  </thead>\n",
       "  <tbody>\n",
       "    <tr>\n",
       "      <th>0</th>\n",
       "      <td>[&lt;em class=\"letter\" id=\"infoJiga\"&gt;3,402,000&lt;/em&gt;]</td>\n",
       "      <td>3402000</td>\n",
       "    </tr>\n",
       "    <tr>\n",
       "      <th>1</th>\n",
       "      <td>[&lt;em class=\"letter\" id=\"infoJiga\"&gt;3,401,000&lt;/em&gt;]</td>\n",
       "      <td>3401000</td>\n",
       "    </tr>\n",
       "    <tr>\n",
       "      <th>2</th>\n",
       "      <td>[&lt;em class=\"letter\" id=\"infoJiga\"&gt;3,400,000&lt;/em&gt;]</td>\n",
       "      <td>3400000</td>\n",
       "    </tr>\n",
       "    <tr>\n",
       "      <th>3</th>\n",
       "      <td>[&lt;em class=\"letter\" id=\"infoJiga\"&gt;2,000&lt;/em&gt;]</td>\n",
       "      <td>2000</td>\n",
       "    </tr>\n",
       "  </tbody>\n",
       "</table>\n",
       "</div>"
      ],
      "text/plain": [
       "                                                   0        1\n",
       "0  [<em class=\"letter\" id=\"infoJiga\">3,402,000</em>]  3402000\n",
       "1  [<em class=\"letter\" id=\"infoJiga\">3,401,000</em>]  3401000\n",
       "2  [<em class=\"letter\" id=\"infoJiga\">3,400,000</em>]  3400000\n",
       "3      [<em class=\"letter\" id=\"infoJiga\">2,000</em>]     2000"
      ]
     },
     "execution_count": 11,
     "metadata": {},
     "output_type": "execute_result"
    }
   ],
   "source": [
    "df[1] = df[0].apply(get_numeric)\n",
    "df.head()"
   ]
  },
  {
   "cell_type": "code",
   "execution_count": null,
   "metadata": {
    "collapsed": true
   },
   "outputs": [],
   "source": []
  }
 ],
 "metadata": {
  "kernelspec": {
   "display_name": "Python [Root]",
   "language": "python",
   "name": "Python [Root]"
  },
  "language_info": {
   "codemirror_mode": {
    "name": "ipython",
    "version": 2
   },
   "file_extension": ".py",
   "mimetype": "text/x-python",
   "name": "python",
   "nbconvert_exporter": "python",
   "pygments_lexer": "ipython2",
   "version": "2.7.11"
  }
 },
 "nbformat": 4,
 "nbformat_minor": 0
}
