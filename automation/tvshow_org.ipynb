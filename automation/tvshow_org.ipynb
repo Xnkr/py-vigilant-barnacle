{
 "cells": [
  {
   "cell_type": "code",
   "execution_count": 30,
   "metadata": {
    "collapsed": true
   },
   "outputs": [],
   "source": [
    "import os,re,shutil\n",
    "from pprint import pprint"
   ]
  },
  {
   "cell_type": "code",
   "execution_count": 3,
   "metadata": {
    "collapsed": true
   },
   "outputs": [],
   "source": [
    "search_dir = 'D:\\Downloads'\n",
    "dest_dir = 'D:\\Downloads\\TV\\Forever'\n",
    "show = 'Forever'\n",
    "ext = ['mkv','mp4','avi']\n",
    "DEBUG = True"
   ]
  },
  {
   "cell_type": "code",
   "execution_count": 4,
   "metadata": {
    "collapsed": false
   },
   "outputs": [
    {
     "data": {
      "text/plain": [
       "True"
      ]
     },
     "execution_count": 4,
     "metadata": {},
     "output_type": "execute_result"
    }
   ],
   "source": [
    "os.path.isdir(dest_dir)"
   ]
  },
  {
   "cell_type": "code",
   "execution_count": 5,
   "metadata": {
    "collapsed": false
   },
   "outputs": [
    {
     "data": {
      "text/plain": [
       "True"
      ]
     },
     "execution_count": 5,
     "metadata": {},
     "output_type": "execute_result"
    }
   ],
   "source": [
    "search_dir is not dest_dir"
   ]
  },
  {
   "cell_type": "code",
   "execution_count": 6,
   "metadata": {
    "collapsed": true
   },
   "outputs": [],
   "source": [
    "if not os.path.isdir(dest_dir) and search_dir is not dest_dir:\n",
    "#\tshutil.rmtree(dest_dir)\n",
    "\tos.mkdir(dest_dir)"
   ]
  },
  {
   "cell_type": "code",
   "execution_count": 7,
   "metadata": {
    "collapsed": false
   },
   "outputs": [
    {
     "data": {
      "text/plain": [
       "['Forever 2014 S01E01 Pilot WEBRip x264-FUM[ettv]',\n",
       " 'Forever US S01E02 HDTV x264-LOL[ettv]',\n",
       " 'Forever US S01E03 HDTV x264-LOL[ettv]',\n",
       " 'Forever US S01E06 HDTV x264-LOL[ettv]',\n",
       " 'Forever US S01E07 HDTV x264-LOL[ettv]',\n",
       " 'Forever US S01E08 HDTV x264-LOL[ettv]',\n",
       " 'Forever US Season 1 HDTV.XviD[Pawulon]',\n",
       " 'Forever.US.S01E04.HDTV.x264-LOL.mp4',\n",
       " 'Forever.US.S01E05.HDTV.x264.REAL-LOL.mp4',\n",
       " 'Forever.US.S01E09.HDTV.x264-LOL.mp4',\n",
       " 'Forever.US.S01E09.HDTV.x264-LOL[ettv]',\n",
       " 'Forever.US.S01E10.HDTV.x264-LOL.mp4',\n",
       " 'Forever.US.S01E11.HDTV.x264-LOL.mp4']"
      ]
     },
     "execution_count": 7,
     "metadata": {},
     "output_type": "execute_result"
    }
   ],
   "source": [
    "required_dirs = [direc for direc in os.listdir(search_dir) if re.match(show, direc, flags=re.IGNORECASE)]\n",
    "required_dirs"
   ]
  },
  {
   "cell_type": "code",
   "execution_count": 37,
   "metadata": {
    "collapsed": false
   },
   "outputs": [
    {
     "name": "stdout",
     "output_type": "stream",
     "text": [
      "['D:\\\\Downloads\\\\Forever.US.S01E04.HDTV.x264-LOL.mp4',\n",
      " 'D:\\\\Downloads\\\\Forever.US.S01E05.HDTV.x264.REAL-LOL.mp4',\n",
      " 'D:\\\\Downloads\\\\Forever.US.S01E09.HDTV.x264-LOL.mp4',\n",
      " 'D:\\\\Downloads\\\\Forever.US.S01E10.HDTV.x264-LOL.mp4',\n",
      " 'D:\\\\Downloads\\\\Forever.US.S01E11.HDTV.x264-LOL.mp4']\n"
     ]
    }
   ],
   "source": [
    "folders = []\n",
    "files_only = []\n",
    "for rd in required_dirs:\n",
    "    if os.path.isdir(search_dir + '\\\\' + rd):\n",
    "        folders.append(search_dir + '\\\\' + rd)\n",
    "    else:\n",
    "        files_only.append(search_dir + '\\\\' + rd)\n",
    "pprint(files_only)        "
   ]
  },
  {
   "cell_type": "code",
   "execution_count": 38,
   "metadata": {
    "collapsed": false
   },
   "outputs": [
    {
     "name": "stdout",
     "output_type": "stream",
     "text": [
      "['D:\\\\Downloads\\\\Forever 2014 S01E01 Pilot WEBRip x264-FUM[ettv]\\\\Forever.2014.S01E01.Pilot.WEBRip.x264-FUM.mp4',\n",
      " 'D:\\\\Downloads\\\\Forever US S01E02 HDTV x264-LOL[ettv]\\\\forever.2014.102.hdtv-lol.mp4',\n",
      " 'D:\\\\Downloads\\\\Forever US S01E03 HDTV x264-LOL[ettv]\\\\forever.us.103.hdtv-lol.mp4',\n",
      " 'D:\\\\Downloads\\\\Forever US S01E06 HDTV x264-LOL[ettv]\\\\forever.us.106.hdtv-lol.mp4',\n",
      " 'D:\\\\Downloads\\\\Forever US S01E07 HDTV x264-LOL[ettv]\\\\forever.us.107.hdtv-lol.mp4',\n",
      " 'D:\\\\Downloads\\\\Forever US S01E08 HDTV x264-LOL[ettv]\\\\forever.us.108.hdtv-lol.mp4',\n",
      " 'D:\\\\Downloads\\\\Forever US Season 1 HDTV.XviD[Pawulon]\\\\Forever US S01E12 HDTV.XviD-AFG.avi',\n",
      " 'D:\\\\Downloads\\\\Forever US Season 1 HDTV.XviD[Pawulon]\\\\Forever US S01E13 HDTV.XviD-AFG.avi',\n",
      " 'D:\\\\Downloads\\\\Forever US Season 1 HDTV.XviD[Pawulon]\\\\Forever US S01E14 HDTV.XviD-AFG.avi',\n",
      " 'D:\\\\Downloads\\\\Forever US Season 1 HDTV.XviD[Pawulon]\\\\Forever US S01E15 HDTV.XviD-FUM.avi',\n",
      " 'D:\\\\Downloads\\\\Forever US Season 1 HDTV.XviD[Pawulon]\\\\Forever US S01E16 HDTV.XviD-AFG.avi',\n",
      " 'D:\\\\Downloads\\\\Forever US Season 1 HDTV.XviD[Pawulon]\\\\Forever US S01E17 HDTV.XviD-AFG.avi',\n",
      " 'D:\\\\Downloads\\\\Forever US Season 1 HDTV.XviD[Pawulon]\\\\Forever US S01E18 HDTV.XviD-FUM.avi',\n",
      " 'D:\\\\Downloads\\\\Forever US Season 1 HDTV.XviD[Pawulon]\\\\Forever US S01E19 REPACK.HDTV.XviD-AFG.avi',\n",
      " 'D:\\\\Downloads\\\\Forever US Season 1 HDTV.XviD[Pawulon]\\\\Forever US S01E20 HDTV.XviD-FUM.avi',\n",
      " 'D:\\\\Downloads\\\\Forever US Season 1 HDTV.XviD[Pawulon]\\\\Forever US S01E21 HDTV.XviD-FUM.avi',\n",
      " 'D:\\\\Downloads\\\\Forever US Season 1 HDTV.XviD[Pawulon]\\\\Forever US S01E22 HDTV.XviD-FUM.avi',\n",
      " 'D:\\\\Downloads\\\\Forever.US.S01E09.HDTV.x264-LOL[ettv]\\\\forever.us.109.hdtv-lol.mp4']\n"
     ]
    }
   ],
   "source": [
    "files_in_folders = []\n",
    "for folder in folders:\n",
    "    for file in os.listdir(folder):\n",
    "        if os.path.splitext(file)[1][1:] in ext:\n",
    "            files_in_folders.append(folder + '\\\\' + file)\n",
    "pprint(files_in_folders)\n",
    "            "
   ]
  },
  {
   "cell_type": "code",
   "execution_count": 41,
   "metadata": {
    "collapsed": false
   },
   "outputs": [
    {
     "name": "stdout",
     "output_type": "stream",
     "text": [
      "23\n",
      "['D:\\\\Downloads\\\\Forever.US.S01E04.HDTV.x264-LOL.mp4',\n",
      " 'D:\\\\Downloads\\\\Forever.US.S01E05.HDTV.x264.REAL-LOL.mp4',\n",
      " 'D:\\\\Downloads\\\\Forever.US.S01E09.HDTV.x264-LOL.mp4',\n",
      " 'D:\\\\Downloads\\\\Forever.US.S01E10.HDTV.x264-LOL.mp4',\n",
      " 'D:\\\\Downloads\\\\Forever.US.S01E11.HDTV.x264-LOL.mp4',\n",
      " 'D:\\\\Downloads\\\\Forever 2014 S01E01 Pilot WEBRip x264-FUM[ettv]\\\\Forever.2014.S01E01.Pilot.WEBRip.x264-FUM.mp4',\n",
      " 'D:\\\\Downloads\\\\Forever US S01E02 HDTV x264-LOL[ettv]\\\\forever.2014.102.hdtv-lol.mp4',\n",
      " 'D:\\\\Downloads\\\\Forever US S01E03 HDTV x264-LOL[ettv]\\\\forever.us.103.hdtv-lol.mp4',\n",
      " 'D:\\\\Downloads\\\\Forever US S01E06 HDTV x264-LOL[ettv]\\\\forever.us.106.hdtv-lol.mp4',\n",
      " 'D:\\\\Downloads\\\\Forever US S01E07 HDTV x264-LOL[ettv]\\\\forever.us.107.hdtv-lol.mp4',\n",
      " 'D:\\\\Downloads\\\\Forever US S01E08 HDTV x264-LOL[ettv]\\\\forever.us.108.hdtv-lol.mp4',\n",
      " 'D:\\\\Downloads\\\\Forever US Season 1 HDTV.XviD[Pawulon]\\\\Forever US S01E12 HDTV.XviD-AFG.avi',\n",
      " 'D:\\\\Downloads\\\\Forever US Season 1 HDTV.XviD[Pawulon]\\\\Forever US S01E13 HDTV.XviD-AFG.avi',\n",
      " 'D:\\\\Downloads\\\\Forever US Season 1 HDTV.XviD[Pawulon]\\\\Forever US S01E14 HDTV.XviD-AFG.avi',\n",
      " 'D:\\\\Downloads\\\\Forever US Season 1 HDTV.XviD[Pawulon]\\\\Forever US S01E15 HDTV.XviD-FUM.avi',\n",
      " 'D:\\\\Downloads\\\\Forever US Season 1 HDTV.XviD[Pawulon]\\\\Forever US S01E16 HDTV.XviD-AFG.avi',\n",
      " 'D:\\\\Downloads\\\\Forever US Season 1 HDTV.XviD[Pawulon]\\\\Forever US S01E17 HDTV.XviD-AFG.avi',\n",
      " 'D:\\\\Downloads\\\\Forever US Season 1 HDTV.XviD[Pawulon]\\\\Forever US S01E18 HDTV.XviD-FUM.avi',\n",
      " 'D:\\\\Downloads\\\\Forever US Season 1 HDTV.XviD[Pawulon]\\\\Forever US S01E19 REPACK.HDTV.XviD-AFG.avi',\n",
      " 'D:\\\\Downloads\\\\Forever US Season 1 HDTV.XviD[Pawulon]\\\\Forever US S01E20 HDTV.XviD-FUM.avi',\n",
      " 'D:\\\\Downloads\\\\Forever US Season 1 HDTV.XviD[Pawulon]\\\\Forever US S01E21 HDTV.XviD-FUM.avi',\n",
      " 'D:\\\\Downloads\\\\Forever US Season 1 HDTV.XviD[Pawulon]\\\\Forever US S01E22 HDTV.XviD-FUM.avi',\n",
      " 'D:\\\\Downloads\\\\Forever.US.S01E09.HDTV.x264-LOL[ettv]\\\\forever.us.109.hdtv-lol.mp4']\n"
     ]
    }
   ],
   "source": [
    "# Consolidate files\n",
    "files_to_move = files_only + files_in_folders\n",
    "print len(files_to_move)\n",
    "pprint(files_to_move)"
   ]
  },
  {
   "cell_type": "code",
   "execution_count": 77,
   "metadata": {
    "collapsed": false
   },
   "outputs": [
    {
     "name": "stdout",
     "output_type": "stream",
     "text": [
      "File D:\\Downloads\\abc.txt is created\n"
     ]
    }
   ],
   "source": [
    "#!mkdir D:\\Downloads\\test\\\n",
    "!fsutil file createnew D:\\Downloads\\abc.txt 1000\n",
    "#!del abc.txt"
   ]
  },
  {
   "cell_type": "code",
   "execution_count": 85,
   "metadata": {
    "collapsed": false
   },
   "outputs": [
    {
     "name": "stdout",
     "output_type": "stream",
     "text": [
      "D:\\Downloads\\test\n",
      "la abc.txt\n"
     ]
    }
   ],
   "source": [
    "# Test for splitting source dir\n",
    "# t = files_to_move\n",
    "t = [search_dir + '\\\\test\\\\abc.txt', search_dir + '\\\\abc.txt']\n",
    "for i in t:\n",
    "    \n",
    "    if os.path.split(i)[0] == search_dir:\n",
    "        print 'la' , (os.path.split(i)[1])\n",
    "    else:\n",
    "        print(os.path.split(i)[0])"
   ]
  },
  {
   "cell_type": "code",
   "execution_count": 49,
   "metadata": {
    "collapsed": false
   },
   "outputs": [
    {
     "name": "stdout",
     "output_type": "stream",
     "text": [
      "D:\\Downloads\\Forever.US.S01E04.HDTV.x264-LOL.mp4 D:\\Downloads\\TV\\Forever\n",
      "#### ________________________________________________________________________________________________ 4% finished\n",
      "D:\\Downloads\\Forever.US.S01E05.HDTV.x264.REAL-LOL.mp4 D:\\Downloads\\TV\\Forever\n",
      "######## ____________________________________________________________________________________________ 8% finished\n",
      "D:\\Downloads\\Forever.US.S01E09.HDTV.x264-LOL.mp4 D:\\Downloads\\TV\\Forever\n",
      "############# _______________________________________________________________________________________ 13% finished\n",
      "D:\\Downloads\\Forever.US.S01E10.HDTV.x264-LOL.mp4 D:\\Downloads\\TV\\Forever\n",
      "################# ___________________________________________________________________________________ 17% finished\n",
      "D:\\Downloads\\Forever.US.S01E11.HDTV.x264-LOL.mp4 D:\\Downloads\\TV\\Forever\n",
      "##################### _______________________________________________________________________________ 21% finished\n",
      "D:\\Downloads\\Forever 2014 S01E01 Pilot WEBRip x264-FUM[ettv]\\Forever.2014.S01E01.Pilot.WEBRip.x264-FUM.mp4 D:\\Downloads\\TV\\Forever\n",
      "########################## __________________________________________________________________________ 26% finished\n",
      "D:\\Downloads\\Forever US S01E02 HDTV x264-LOL[ettv]\\forever.2014.102.hdtv-lol.mp4 D:\\Downloads\\TV\\Forever\n",
      "############################## ______________________________________________________________________ 30% finished\n",
      "D:\\Downloads\\Forever US S01E03 HDTV x264-LOL[ettv]\\forever.us.103.hdtv-lol.mp4 D:\\Downloads\\TV\\Forever\n",
      "################################## __________________________________________________________________ 34% finished\n",
      "D:\\Downloads\\Forever US S01E06 HDTV x264-LOL[ettv]\\forever.us.106.hdtv-lol.mp4 D:\\Downloads\\TV\\Forever\n",
      "####################################### _____________________________________________________________ 39% finished\n",
      "D:\\Downloads\\Forever US S01E07 HDTV x264-LOL[ettv]\\forever.us.107.hdtv-lol.mp4 D:\\Downloads\\TV\\Forever\n",
      "########################################### _________________________________________________________ 43% finished\n",
      "D:\\Downloads\\Forever US S01E08 HDTV x264-LOL[ettv]\\forever.us.108.hdtv-lol.mp4 D:\\Downloads\\TV\\Forever\n",
      "############################################### _____________________________________________________ 47% finished\n",
      "D:\\Downloads\\Forever US Season 1 HDTV.XviD[Pawulon]\\Forever US S01E12 HDTV.XviD-AFG.avi D:\\Downloads\\TV\\Forever\n",
      "#################################################### ________________________________________________ 52% finished\n",
      "D:\\Downloads\\Forever US Season 1 HDTV.XviD[Pawulon]\\Forever US S01E13 HDTV.XviD-AFG.avi D:\\Downloads\\TV\\Forever\n",
      "######################################################## ____________________________________________ 56% finished\n",
      "D:\\Downloads\\Forever US Season 1 HDTV.XviD[Pawulon]\\Forever US S01E14 HDTV.XviD-AFG.avi D:\\Downloads\\TV\\Forever\n",
      "############################################################ ________________________________________ 60% finished\n",
      "D:\\Downloads\\Forever US Season 1 HDTV.XviD[Pawulon]\\Forever US S01E15 HDTV.XviD-FUM.avi D:\\Downloads\\TV\\Forever\n",
      "################################################################# ___________________________________ 65% finished\n",
      "D:\\Downloads\\Forever US Season 1 HDTV.XviD[Pawulon]\\Forever US S01E16 HDTV.XviD-AFG.avi D:\\Downloads\\TV\\Forever\n",
      "##################################################################### _______________________________ 69% finished\n",
      "D:\\Downloads\\Forever US Season 1 HDTV.XviD[Pawulon]\\Forever US S01E17 HDTV.XviD-AFG.avi D:\\Downloads\\TV\\Forever\n",
      "######################################################################### ___________________________ 73% finished\n",
      "D:\\Downloads\\Forever US Season 1 HDTV.XviD[Pawulon]\\Forever US S01E18 HDTV.XviD-FUM.avi D:\\Downloads\\TV\\Forever\n",
      "############################################################################## ______________________ 78% finished\n",
      "D:\\Downloads\\Forever US Season 1 HDTV.XviD[Pawulon]\\Forever US S01E19 REPACK.HDTV.XviD-AFG.avi D:\\Downloads\\TV\\Forever\n",
      "################################################################################## __________________ 82% finished\n",
      "D:\\Downloads\\Forever US Season 1 HDTV.XviD[Pawulon]\\Forever US S01E20 HDTV.XviD-FUM.avi D:\\Downloads\\TV\\Forever\n",
      "###################################################################################### ______________ 86% finished\n",
      "D:\\Downloads\\Forever US Season 1 HDTV.XviD[Pawulon]\\Forever US S01E21 HDTV.XviD-FUM.avi D:\\Downloads\\TV\\Forever\n",
      "########################################################################################### _________ 91% finished\n",
      "D:\\Downloads\\Forever US Season 1 HDTV.XviD[Pawulon]\\Forever US S01E22 HDTV.XviD-FUM.avi D:\\Downloads\\TV\\Forever\n",
      "############################################################################################### _____ 95% finished\n",
      "D:\\Downloads\\Forever.US.S01E09.HDTV.x264-LOL[ettv]\\forever.us.109.hdtv-lol.mp4 D:\\Downloads\\TV\\Forever\n",
      "####################################################################################################  100% finished\n"
     ]
    }
   ],
   "source": [
    "# Move files\n",
    "counter = 0 \n",
    "for f in files_to_move:\n",
    "    if not DEBUG:\n",
    "        shutil.move(f, dest_dir)\n",
    "        shutil.rmtree(d)\n",
    "    else:\n",
    "        print f, dest_dir\n",
    "    counter += 1\n",
    "    finished = counter * 100 // len(files_to_move)\n",
    "    print '#' * finished, '_' * (100-finished), '{0}% finished'.format(finished)"
   ]
  }
 ],
 "metadata": {
  "kernelspec": {
   "display_name": "Python [Root]",
   "language": "python",
   "name": "Python [Root]"
  },
  "language_info": {
   "codemirror_mode": {
    "name": "ipython",
    "version": 2
   },
   "file_extension": ".py",
   "mimetype": "text/x-python",
   "name": "python",
   "nbconvert_exporter": "python",
   "pygments_lexer": "ipython2",
   "version": "2.7.11"
  }
 },
 "nbformat": 4,
 "nbformat_minor": 0
}
