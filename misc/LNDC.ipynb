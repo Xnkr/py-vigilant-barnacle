{
 "cells": [
  {
   "cell_type": "markdown",
   "metadata": {},
   "source": [
    "## Import packages "
   ]
  },
  {
   "cell_type": "code",
   "execution_count": 1,
   "metadata": {
    "collapsed": false,
    "nbpresent": {
     "id": "81d72120-e760-41ca-bcbb-7a42a189aad4"
    }
   },
   "outputs": [],
   "source": [
    "import numpy as np # linear algebra\n",
    "import pandas as pd # data processing, CSV file I/O (e.g. pd.read_csv)\n",
    "\n",
    "# keeps the plots in one place. calls image as static pngs\n",
    "%matplotlib inline \n",
    "import matplotlib.pyplot as plt # side-stepping mpl backend\n",
    "import matplotlib.gridspec as gridspec # subplots\n",
    "import mpld3 as mpl\n",
    "\n",
    "#Import models from scikit learn module:\n",
    "from sklearn.model_selection import train_test_split,KFold\n",
    "#from sklearn.cross_validation import KFold   #For K-fold cross validation\n",
    "\n",
    "from sklearn.linear_model import LogisticRegression\n",
    "from sklearn.ensemble import RandomForestClassifier\n",
    "from sklearn.neighbors import KNeighborsClassifier\n",
    "from sklearn.ensemble import AdaBoostClassifier\n",
    "from sklearn.naive_bayes import GaussianNB\n",
    "from sklearn.tree import DecisionTreeClassifier, export_graphviz\n",
    "\n",
    "from sklearn import metrics"
   ]
  },
  {
   "cell_type": "markdown",
   "metadata": {},
   "source": [
    "## Load Training data"
   ]
  },
  {
   "cell_type": "code",
   "execution_count": 2,
   "metadata": {
    "collapsed": false,
    "nbpresent": {
     "id": "ea62fa7e-3739-4575-a1b3-3a603a3a3261"
    }
   },
   "outputs": [
    {
     "data": {
      "text/html": [
       "<div>\n",
       "<table border=\"1\" class=\"dataframe\">\n",
       "  <thead>\n",
       "    <tr style=\"text-align: right;\">\n",
       "      <th></th>\n",
       "      <th>Area</th>\n",
       "      <th>Perimeter</th>\n",
       "      <th>Radius</th>\n",
       "      <th>Label</th>\n",
       "    </tr>\n",
       "  </thead>\n",
       "  <tbody>\n",
       "    <tr>\n",
       "      <th>0</th>\n",
       "      <td>173.0</td>\n",
       "      <td>36.70</td>\n",
       "      <td>7.42070</td>\n",
       "      <td>Stage 1</td>\n",
       "    </tr>\n",
       "    <tr>\n",
       "      <th>1</th>\n",
       "      <td>184.0</td>\n",
       "      <td>37.40</td>\n",
       "      <td>7.65303</td>\n",
       "      <td>Stage 1</td>\n",
       "    </tr>\n",
       "    <tr>\n",
       "      <th>2</th>\n",
       "      <td>1248.0</td>\n",
       "      <td>128.83</td>\n",
       "      <td>19.93100</td>\n",
       "      <td>Stage 1</td>\n",
       "    </tr>\n",
       "    <tr>\n",
       "      <th>3</th>\n",
       "      <td>990.6</td>\n",
       "      <td>116.40</td>\n",
       "      <td>17.70000</td>\n",
       "      <td>Stage 2</td>\n",
       "    </tr>\n",
       "    <tr>\n",
       "      <th>4</th>\n",
       "      <td>876.0</td>\n",
       "      <td>104.00</td>\n",
       "      <td>16.70000</td>\n",
       "      <td>Stage 2</td>\n",
       "    </tr>\n",
       "  </tbody>\n",
       "</table>\n",
       "</div>"
      ],
      "text/plain": [
       "     Area  Perimeter    Radius    Label\n",
       "0   173.0      36.70   7.42070  Stage 1\n",
       "1   184.0      37.40   7.65303  Stage 1\n",
       "2  1248.0     128.83  19.93100  Stage 1\n",
       "3   990.6     116.40  17.70000  Stage 2\n",
       "4   876.0     104.00  16.70000  Stage 2"
      ]
     },
     "execution_count": 2,
     "metadata": {},
     "output_type": "execute_result"
    }
   ],
   "source": [
    "df = pd.read_csv(\"TRAINING.csv\",header = 0)\n",
    "df.head()"
   ]
  },
  {
   "cell_type": "code",
   "execution_count": 3,
   "metadata": {
    "collapsed": false,
    "nbpresent": {
     "id": "e61078ed-e483-49d1-a349-ef6632444b76"
    }
   },
   "outputs": [
    {
     "data": {
      "text/plain": [
       "array(['Stage 1', 'Stage 2', 'Stage 3'], dtype=object)"
      ]
     },
     "execution_count": 3,
     "metadata": {},
     "output_type": "execute_result"
    }
   ],
   "source": [
    "df.Label.unique()"
   ]
  },
  {
   "cell_type": "code",
   "execution_count": 4,
   "metadata": {
    "collapsed": false,
    "nbpresent": {
     "id": "95882a97-14eb-4541-b424-3af949319c86"
    }
   },
   "outputs": [
    {
     "data": {
      "text/html": [
       "<div>\n",
       "<table border=\"1\" class=\"dataframe\">\n",
       "  <thead>\n",
       "    <tr style=\"text-align: right;\">\n",
       "      <th></th>\n",
       "      <th>Area</th>\n",
       "      <th>Perimeter</th>\n",
       "      <th>Radius</th>\n",
       "      <th>Label</th>\n",
       "    </tr>\n",
       "  </thead>\n",
       "  <tbody>\n",
       "    <tr>\n",
       "      <th>0</th>\n",
       "      <td>173.0</td>\n",
       "      <td>36.70</td>\n",
       "      <td>7.42070</td>\n",
       "      <td>1</td>\n",
       "    </tr>\n",
       "    <tr>\n",
       "      <th>1</th>\n",
       "      <td>184.0</td>\n",
       "      <td>37.40</td>\n",
       "      <td>7.65303</td>\n",
       "      <td>1</td>\n",
       "    </tr>\n",
       "    <tr>\n",
       "      <th>2</th>\n",
       "      <td>1248.0</td>\n",
       "      <td>128.83</td>\n",
       "      <td>19.93100</td>\n",
       "      <td>1</td>\n",
       "    </tr>\n",
       "    <tr>\n",
       "      <th>3</th>\n",
       "      <td>990.6</td>\n",
       "      <td>116.40</td>\n",
       "      <td>17.70000</td>\n",
       "      <td>2</td>\n",
       "    </tr>\n",
       "    <tr>\n",
       "      <th>4</th>\n",
       "      <td>876.0</td>\n",
       "      <td>104.00</td>\n",
       "      <td>16.70000</td>\n",
       "      <td>2</td>\n",
       "    </tr>\n",
       "  </tbody>\n",
       "</table>\n",
       "</div>"
      ],
      "text/plain": [
       "     Area  Perimeter    Radius  Label\n",
       "0   173.0      36.70   7.42070      1\n",
       "1   184.0      37.40   7.65303      1\n",
       "2  1248.0     128.83  19.93100      1\n",
       "3   990.6     116.40  17.70000      2\n",
       "4   876.0     104.00  16.70000      2"
      ]
     },
     "execution_count": 4,
     "metadata": {},
     "output_type": "execute_result"
    }
   ],
   "source": [
    "df['Label'] = df['Label'].map({'Stage 1':1,'Stage 2':2, 'Stage 3':3})\n",
    "df.head()"
   ]
  },
  {
   "cell_type": "code",
   "execution_count": 5,
   "metadata": {
    "collapsed": false,
    "nbpresent": {
     "id": "03b4ef14-0c55-4a5a-b3ad-3b26b48b15b9"
    }
   },
   "outputs": [
    {
     "data": {
      "text/html": [
       "<div>\n",
       "<table border=\"1\" class=\"dataframe\">\n",
       "  <thead>\n",
       "    <tr style=\"text-align: right;\">\n",
       "      <th></th>\n",
       "      <th>Area</th>\n",
       "      <th>Perimeter</th>\n",
       "      <th>Radius</th>\n",
       "      <th>Label</th>\n",
       "    </tr>\n",
       "  </thead>\n",
       "  <tbody>\n",
       "    <tr>\n",
       "      <th>count</th>\n",
       "      <td>89.000000</td>\n",
       "      <td>89.000000</td>\n",
       "      <td>89.000000</td>\n",
       "      <td>89.000000</td>\n",
       "    </tr>\n",
       "    <tr>\n",
       "      <th>mean</th>\n",
       "      <td>659.837079</td>\n",
       "      <td>109.416382</td>\n",
       "      <td>13.322797</td>\n",
       "      <td>1.842697</td>\n",
       "    </tr>\n",
       "    <tr>\n",
       "      <th>std</th>\n",
       "      <td>545.174044</td>\n",
       "      <td>90.064836</td>\n",
       "      <td>5.716368</td>\n",
       "      <td>0.736991</td>\n",
       "    </tr>\n",
       "    <tr>\n",
       "      <th>min</th>\n",
       "      <td>123.000000</td>\n",
       "      <td>36.700000</td>\n",
       "      <td>6.250000</td>\n",
       "      <td>1.000000</td>\n",
       "    </tr>\n",
       "    <tr>\n",
       "      <th>25%</th>\n",
       "      <td>238.000000</td>\n",
       "      <td>46.400000</td>\n",
       "      <td>8.703800</td>\n",
       "      <td>1.000000</td>\n",
       "    </tr>\n",
       "    <tr>\n",
       "      <th>50%</th>\n",
       "      <td>389.000000</td>\n",
       "      <td>79.500000</td>\n",
       "      <td>11.127000</td>\n",
       "      <td>2.000000</td>\n",
       "    </tr>\n",
       "    <tr>\n",
       "      <th>75%</th>\n",
       "      <td>1152.000000</td>\n",
       "      <td>127.300000</td>\n",
       "      <td>19.140000</td>\n",
       "      <td>2.000000</td>\n",
       "    </tr>\n",
       "    <tr>\n",
       "      <th>max</th>\n",
       "      <td>1969.000000</td>\n",
       "      <td>303.100000</td>\n",
       "      <td>25.035000</td>\n",
       "      <td>3.000000</td>\n",
       "    </tr>\n",
       "  </tbody>\n",
       "</table>\n",
       "</div>"
      ],
      "text/plain": [
       "              Area   Perimeter     Radius      Label\n",
       "count    89.000000   89.000000  89.000000  89.000000\n",
       "mean    659.837079  109.416382  13.322797   1.842697\n",
       "std     545.174044   90.064836   5.716368   0.736991\n",
       "min     123.000000   36.700000   6.250000   1.000000\n",
       "25%     238.000000   46.400000   8.703800   1.000000\n",
       "50%     389.000000   79.500000  11.127000   2.000000\n",
       "75%    1152.000000  127.300000  19.140000   2.000000\n",
       "max    1969.000000  303.100000  25.035000   3.000000"
      ]
     },
     "execution_count": 5,
     "metadata": {},
     "output_type": "execute_result"
    }
   ],
   "source": [
    "df.describe()"
   ]
  },
  {
   "cell_type": "code",
   "execution_count": 7,
   "metadata": {
    "collapsed": false,
    "nbpresent": {
     "id": "71c44812-ba59-43d0-a832-173e29606e4d"
    }
   },
   "outputs": [
    {
     "data": {
      "image/png": "[encoded data removed]",
      "text/plain": [
       "<matplotlib.figure.Figure at 0x3481208>"
      ]
     },
     "metadata": {},
     "output_type": "display_data"
    }
   ],
   "source": [
    "plt.hist(df['Label'])\n",
    "plt.title('Stage (1 , 2, 3)')\n",
    "plt.show()"
   ]
  },
  {
   "cell_type": "code",
   "execution_count": 8,
   "metadata": {
    "collapsed": false,
    "nbpresent": {
     "id": "365b9c94-d26d-4955-9404-6a86b3cddc15"
    }
   },
   "outputs": [
    {
     "name": "stdout",
     "output_type": "stream",
     "text": [
      "['Area', 'Perimeter', 'Radius']\n"
     ]
    }
   ],
   "source": [
    "features_mean=list(df.columns[0:3])\n",
    "print features_mean"
   ]
  },
  {
   "cell_type": "code",
   "execution_count": 9,
   "metadata": {
    "collapsed": true,
    "nbpresent": {
     "id": "477d1547-a99a-4832-96ed-29b9af401bbe"
    }
   },
   "outputs": [],
   "source": [
    "df1=df[df['Label'] ==1]\n",
    "df2=df[df['Label'] ==2]\n",
    "df3=df[df['Label'] ==3]"
   ]
  },
  {
   "cell_type": "code",
   "execution_count": 152,
   "metadata": {
    "collapsed": false,
    "nbpresent": {
     "id": "e5f7bf9e-d44b-464f-b84a-6261bf1b8f3d"
    }
   },
   "outputs": [
    {
     "data": {
      "image/png": "[encoded data removed]",
      "text/plain": [
       "<matplotlib.figure.Figure at 0xe1664e0>"
      ]
     },
     "metadata": {},
     "output_type": "display_data"
    }
   ],
   "source": [
    "plt.rcParams.update({'font.size': 8})\n",
    "fig, axes = plt.subplots(nrows=3, ncols=1, figsize=(10,10))\n",
    "axes = axes.ravel()\n",
    "for idx,ax in enumerate(axes):\n",
    "    ax.figure\n",
    "    binwidth= (max(df[features_mean[idx]]) - min(df[features_mean[idx]]))/50\n",
    "    ax.hist([df1[features_mean[idx]],df2[features_mean[idx]],df3[features_mean[idx]]], bins=np.arange(min(df[features_mean[idx]]), max(df[features_mean[idx]]) + binwidth, binwidth) , alpha=0.5,stacked=True, normed = True, label=['1','2','3'],color=['r','g','b'])\n",
    "    ax.legend(loc='upper right')\n",
    "    ax.set_title(features_mean[idx])\n",
    "plt.tight_layout()\n",
    "plt.show()\n"
   ]
  },
  {
   "cell_type": "code",
   "execution_count": 153,
   "metadata": {
    "collapsed": false,
    "nbpresent": {
     "id": "f096b16f-b870-40bd-9ce7-f45daf4871fb"
    }
   },
   "outputs": [
    {
     "data": {
      "image/png": "[encoded data removed]",
      "text/plain": [
       "<matplotlib.figure.Figure at 0xdb75898>"
      ]
     },
     "metadata": {},
     "output_type": "display_data"
    }
   ],
   "source": [
    "observables = df.loc[:,features_mean]\n",
    "color_wheel = {3: \"blue\", 1: \"red\", 2: \"green\"}\n",
    "colors = df[\"Label\"].map(lambda x: color_wheel.get(x))\n",
    "pd.scatter_matrix(observables, c=colors, alpha = 0.5, figsize = (15, 15), diagonal = 'kde');"
   ]
  },
  {
   "cell_type": "code",
   "execution_count": 171,
   "metadata": {
    "collapsed": false,
    "nbpresent": {
     "id": "62861e87-ab23-4428-b3ee-91e8383f53db"
    }
   },
   "outputs": [
    {
     "name": "stdout",
     "output_type": "stream",
     "text": [
      "[[ 296.       60.422     9.7067]\n",
      " [ 105.       34.28      5.7812]]\n"
     ]
    }
   ],
   "source": [
    "X = df.loc[:,['Area','Perimeter','Radius']].as_matrix()\n",
    "y = df.loc[:,['Label']].as_matrix()\n",
    "X_train, X_test, y_train, y_test = train_test_split(X,y,test_size = 0.5)\n",
    "#print X_train.shape[0]\n",
    "#print y_train\n",
    "#print X_test\n",
    "#print y_test\n",
    "traindf, testdf = train_test_split(df, test_size = 0.3)\n",
    "#print type(traindf)\n",
    "#print testdf.shape[0]\n",
    "dfP = pd.read_csv('parameter.csv',sep = ',', header=0)\n",
    "Ptest_X = dfP.loc[:,['Area','Perimeter','Radius']].as_matrix()\n",
    "print Ptest_X"
   ]
  },
  {
   "cell_type": "code",
   "execution_count": 169,
   "metadata": {
    "collapsed": true
   },
   "outputs": [],
   "source": [
    "def classification_model(model, data, predictors, outcome):\n",
    "  #Fit the model:\n",
    "  model.fit(data[predictors],data[outcome])\n",
    "  \n",
    "  #Make predictions on training set:\n",
    "  predictions = model.predict(data[predictors])\n",
    "  \n",
    "  #Print accuracy\n",
    "  accuracy = metrics.accuracy_score(predictions,data[outcome])\n",
    "  print(\"Accuracy : %s\" % \"{0:.3%}\".format(accuracy))\n",
    "\n",
    "  #Perform k-fold cross-validation with 5 folds\n",
    "  kf = KFold(n_splits=5)\n",
    "  error = []\n",
    "  for train, test in kf.split(data):\n",
    "    # Filter training data\n",
    "    train_predictors = (data[predictors].iloc[train,:])\n",
    "    \n",
    "    # The target we're using to train the algorithm.\n",
    "    train_target = data[outcome].iloc[train]\n",
    "    \n",
    "    # Training the algorithm using the predictors and target.\n",
    "    model.fit(train_predictors, train_target)\n",
    "    \n",
    "    #Record error from each cross-validation run\n",
    "    error.append(model.score(data[predictors].iloc[test,:], data[outcome].iloc[test]))\n",
    "    \n",
    "    print(\"Cross-Validation Score : %s\" % \"{0:.3%}\".format(np.mean(error)))\n",
    "    \n",
    "  #Fit the model again so that it can be refered outside the function:\n",
    "  model.fit(data[predictors],data[outcome]) "
   ]
  },
  {
   "cell_type": "code",
   "execution_count": 172,
   "metadata": {
    "collapsed": false
   },
   "outputs": [
    {
     "name": "stdout",
     "output_type": "stream",
     "text": [
      "Accuracy : 91.935%\n",
      "Cross-Validation Score : 92.308%\n",
      "Cross-Validation Score : 88.462%\n",
      "Cross-Validation Score : 89.530%\n",
      "Cross-Validation Score : 90.064%\n",
      "Cross-Validation Score : 88.718%\n",
      "Accuracy : 85.185%\n",
      "Cross-Validation Score : 83.333%\n",
      "Cross-Validation Score : 83.333%\n",
      "Cross-Validation Score : 82.222%\n",
      "Cross-Validation Score : 81.667%\n",
      "Cross-Validation Score : 77.333%\n"
     ]
    }
   ],
   "source": [
    "#Logistic Regression\n",
    "predictor_var = features_mean\n",
    "outcome_var='Label'\n",
    "model=LogisticRegression()\n",
    "classification_model(model,traindf,predictor_var,outcome_var)\n",
    "classification_model(model,testdf,predictor_var,outcome_var)"
   ]
  },
  {
   "cell_type": "code",
   "execution_count": 157,
   "metadata": {
    "collapsed": false
   },
   "outputs": [
    {
     "name": "stdout",
     "output_type": "stream",
     "text": [
      "Accuracy : 100.000%\n",
      "Cross-Validation Score : 92.308%\n",
      "Cross-Validation Score : 96.154%\n",
      "Cross-Validation Score : 97.436%\n",
      "Cross-Validation Score : 95.994%\n",
      "Cross-Validation Score : 96.795%\n",
      "Accuracy : 100.000%\n",
      "Cross-Validation Score : 83.333%\n",
      "Cross-Validation Score : 66.667%\n",
      "Cross-Validation Score : 77.778%\n",
      "Cross-Validation Score : 83.333%\n",
      "Cross-Validation Score : 82.667%\n"
     ]
    }
   ],
   "source": [
    "#Decision Tree\n",
    "model = DecisionTreeClassifier()\n",
    "classification_model(model,traindf,predictor_var,outcome_var)\n",
    "classification_model(model,testdf,predictor_var,outcome_var)"
   ]
  },
  {
   "cell_type": "code",
   "execution_count": 158,
   "metadata": {
    "collapsed": false
   },
   "outputs": [
    {
     "name": "stdout",
     "output_type": "stream",
     "text": [
      "Accuracy : 100.000%\n",
      "Cross-Validation Score : 92.308%\n",
      "Cross-Validation Score : 96.154%\n",
      "Cross-Validation Score : 97.436%\n",
      "Cross-Validation Score : 95.994%\n",
      "Cross-Validation Score : 96.795%\n",
      "Accuracy : 100.000%\n",
      "Cross-Validation Score : 83.333%\n",
      "Cross-Validation Score : 75.000%\n",
      "Cross-Validation Score : 83.333%\n",
      "Cross-Validation Score : 87.500%\n",
      "Cross-Validation Score : 86.000%\n"
     ]
    }
   ],
   "source": [
    "#Random forest\n",
    "model = RandomForestClassifier(n_estimators=100)\n",
    "classification_model(model, traindf,predictor_var,outcome_var)\n",
    "model = RandomForestClassifier(n_estimators=100)\n",
    "classification_model(model,testdf,predictor_var,outcome_var)"
   ]
  },
  {
   "cell_type": "code",
   "execution_count": 159,
   "metadata": {
    "collapsed": false
   },
   "outputs": [
    {
     "name": "stdout",
     "output_type": "stream",
     "text": [
      "Perimeter    0.355534\n",
      "Radius       0.325294\n",
      "Area         0.319172\n",
      "dtype: float64\n"
     ]
    }
   ],
   "source": [
    "featimp = pd.Series(model.feature_importances_, index=predictor_var).sort_values(ascending=False)\n",
    "print(featimp)"
   ]
  },
  {
   "cell_type": "code",
   "execution_count": null,
   "metadata": {
    "collapsed": true
   },
   "outputs": [],
   "source": []
  }
 ],
 "metadata": {
  "anaconda-cloud": {},
  "kernelspec": {
   "display_name": "Python [Root]",
   "language": "python",
   "name": "Python [Root]"
  },
  "language_info": {
   "codemirror_mode": {
    "name": "ipython",
    "version": 2
   },
   "file_extension": ".py",
   "mimetype": "text/x-python",
   "name": "python",
   "nbconvert_exporter": "python",
   "pygments_lexer": "ipython2",
   "version": "2.7.11"
  },
  "nbpresent": {
   "slides": {},
   "themes": {}
  }
 },
 "nbformat": 4,
 "nbformat_minor": 0
}
