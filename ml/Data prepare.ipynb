{
 "cells": [
  {
   "cell_type": "code",
   "execution_count": 3,
   "metadata": {
    "collapsed": true
   },
   "outputs": [],
   "source": [
    "import pandas as pd\n",
    "import numpy as np\n",
    "from sklearn import tree\n",
    "from sklearn.neighbors import KNeighborsClassifier"
   ]
  },
  {
   "cell_type": "code",
   "execution_count": 8,
   "metadata": {
    "collapsed": false
   },
   "outputs": [
    {
     "data": {
      "text/html": [
       "<div>\n",
       "<table border=\"1\" class=\"dataframe\">\n",
       "  <thead>\n",
       "    <tr style=\"text-align: right;\">\n",
       "      <th></th>\n",
       "      <th>Area</th>\n",
       "      <th>Perimeter</th>\n",
       "      <th>Radius</th>\n",
       "      <th>Label</th>\n",
       "    </tr>\n",
       "  </thead>\n",
       "  <tbody>\n",
       "    <tr>\n",
       "      <th>0</th>\n",
       "      <td>1679.0</td>\n",
       "      <td>149.470</td>\n",
       "      <td>23.1180</td>\n",
       "      <td>Stage 2</td>\n",
       "    </tr>\n",
       "    <tr>\n",
       "      <th>1</th>\n",
       "      <td>638.0</td>\n",
       "      <td>87.240</td>\n",
       "      <td>14.2510</td>\n",
       "      <td>Stage 2</td>\n",
       "    </tr>\n",
       "    <tr>\n",
       "      <th>2</th>\n",
       "      <td>348.0</td>\n",
       "      <td>63.970</td>\n",
       "      <td>10.5250</td>\n",
       "      <td>Stage 1</td>\n",
       "    </tr>\n",
       "    <tr>\n",
       "      <th>3</th>\n",
       "      <td>190.0</td>\n",
       "      <td>46.090</td>\n",
       "      <td>7.7768</td>\n",
       "      <td>Stage 1</td>\n",
       "    </tr>\n",
       "    <tr>\n",
       "      <th>4</th>\n",
       "      <td>296.0</td>\n",
       "      <td>60.422</td>\n",
       "      <td>9.7067</td>\n",
       "      <td>Stage 3</td>\n",
       "    </tr>\n",
       "  </tbody>\n",
       "</table>\n",
       "</div>"
      ],
      "text/plain": [
       "     Area  Perimeter   Radius    Label\n",
       "0  1679.0    149.470  23.1180  Stage 2\n",
       "1   638.0     87.240  14.2510  Stage 2\n",
       "2   348.0     63.970  10.5250  Stage 1\n",
       "3   190.0     46.090   7.7768  Stage 1\n",
       "4   296.0     60.422   9.7067  Stage 3"
      ]
     },
     "execution_count": 8,
     "metadata": {},
     "output_type": "execute_result"
    }
   ],
   "source": [
    "df=pd.read_csv('TRAINING.csv', sep=',',header=0)\n",
    "df.head()"
   ]
  },
  {
   "cell_type": "code",
   "execution_count": 9,
   "metadata": {
    "collapsed": false
   },
   "outputs": [
    {
     "name": "stdout",
     "output_type": "stream",
     "text": [
      "[[ 1679.        149.47       23.118  ]\n",
      " [  638.         87.24       14.251  ]\n",
      " [  348.         63.97       10.525  ]\n",
      " [  190.         46.09        7.7768 ]\n",
      " [  296.         60.422       9.7067 ]\n",
      " [  105.         34.28        5.7812 ]\n",
      " [ 1387.        274.55       21.012  ]\n",
      " [  264.         63.234       9.167  ]\n",
      " [  861.        102.9        16.555  ]\n",
      " [  307.         61.184       9.8854 ]\n",
      " [  624.         88.4        14.093  ]\n",
      " [  205.         49.431       8.078  ]\n",
      " [ 1969.        236.5        25.035  ]\n",
      " [  254.         55.634       8.9917 ]\n",
      " [  213.         50.01        8.2341 ]\n",
      " [  590.         86.8        13.704  ]\n",
      " [  289.         58.52        9.5912 ]\n",
      " [  172.         43.832       7.3993 ]\n",
      " [  216.         64.533       8.2919 ]\n",
      " [  243.         52.458       8.7948 ]\n",
      " [ 1248.        128.83       19.931  ]\n",
      " [  990.6       116.4        17.7    ]\n",
      " [  876.        104.         16.7    ]\n",
      " [  389.         79.5        11.127  ]\n",
      " [  678.8        92.         14.6    ]\n",
      " [ 1152.        127.3        19.14   ]\n",
      " [ 1478.        138.8        21.69   ]\n",
      " [  462.5        81.5        12.13   ]\n",
      " [  748.4        91.7        15.43   ]\n",
      " [  517.6        83.4        12.8    ]\n",
      " [ 1278.        130.         20.2    ]\n",
      " [ 1587.        142.9        22.5    ]\n",
      " [  641.         88.8        14.2    ]\n",
      " [  413.8        80.6        11.47   ]\n",
      " [  619.         88.2        14.     ]\n",
      " [  789.         96.         15.8    ]\n",
      " [  741.         94.3        15.3    ]\n",
      " [  753.         94.6        15.48   ]\n",
      " [  762.         94.8        15.57   ]\n",
      " [  684.         87.12       14.7    ]\n",
      " [  624.         87.3        14.1    ]\n",
      " [  693.         88.43       14.8    ]\n",
      " [  671.         88.8        14.6    ]\n",
      " [  421.         80.1        11.57   ]\n",
      " [  458.         82.3        12.1    ]\n",
      " [  463.         82.6        12.13   ]\n",
      " [  479.         83.         12.3    ]\n",
      " [  123.         38.5         6.25   ]\n",
      " [  159.         40.14        7.11   ]\n",
      " [  147.         39.1         6.8    ]\n",
      " [  142.3        39.3         6.7    ]\n",
      " [  154.         40.1         7.     ]\n",
      " [  156.         40.1         7.04   ]\n",
      " [  132.         38.7         6.48   ]\n",
      " [  148.         39.          6.86   ]\n",
      " [  164.         42.4         7.22   ]\n",
      " [  163.         42.          7.2    ]\n",
      " [  178.         43.8         7.52   ]\n",
      " [  187.         43.9         7.71   ]\n",
      " [  194.5        44.          7.86   ]\n",
      " [  220.         45.6         8.36   ]\n",
      " [  274.         46.4         9.34   ]\n",
      " [  236.         45.8         8.66   ]\n",
      " [  258.         45.6         9.06   ]\n",
      " [  247.         45.64        8.86   ]\n",
      " [  263.         46.          9.15   ]\n",
      " [  244.         45.2         8.81   ]\n",
      " [  306.         47.3         9.87   ]\n",
      " [  337.         48.2        10.35   ]\n",
      " [  386.         49.         11.08   ]\n",
      " [  374.         48.7        10.9    ]\n",
      " [  348.         48.2        10.5    ]\n",
      " [  357.         48.6        10.6    ]\n",
      " [  114.         34.6         6.02389]\n",
      " [  126.         35.2         6.333  ]\n",
      " [  134.         35.6         6.5309 ]\n",
      " [  146.         35.8         6.8171 ]\n",
      " [  155.         36.1         7.0241 ]\n",
      " [  169.         36.4         7.3344 ]\n",
      " [  162.         36.2         7.1809 ]\n",
      " [  173.         36.7         7.4207 ]\n",
      " [  184.         37.4         7.65303]\n",
      " [  199.         38.4         7.9588 ]\n",
      " [  226.         48.5         8.48162]\n",
      " [  238.         49.4         8.7038 ]\n",
      " [  241.         49.6         8.7585 ]\n",
      " [  255.         49.74        9.0093 ]\n",
      " [  264.         50.45        9.1669 ]\n",
      " [  278.         54.5         9.4069 ]\n",
      " [  312.         61.2         9.9655 ]\n",
      " [  326.         62.3        10.186  ]\n",
      " [ 1260.        245.4        20.026  ]\n",
      " [ 1245.        240.6        19.907  ]\n",
      " [ 1350.        264.         20.729  ]\n",
      " [ 1377.        273.         20.935  ]\n",
      " [ 1394.        277.436      21.0647 ]\n",
      " [ 1455.        281.6        21.5207 ]\n",
      " [ 1423.        282.36       21.2827 ]\n",
      " [ 1476.        287.4        21.6754 ]\n",
      " [ 1563.        291.4        22.305  ]\n",
      " [ 1545.        289.43       22.176  ]\n",
      " [ 1589.        291.1        22.4898 ]\n",
      " [ 1623.        293.41       22.729  ]\n",
      " [ 1675.        293.6        23.0904 ]\n",
      " [ 1811.        302.1        24.0095 ]\n",
      " [ 1836.        302.6        24.1747 ]\n",
      " [ 1845.        303.1        24.2338 ]]\n",
      "[['Stage 2']\n",
      " ['Stage 2']\n",
      " ['Stage 1']\n",
      " ['Stage 1']\n",
      " ['Stage 3']\n",
      " ['Stage 3']\n",
      " ['Stage 3']\n",
      " ['Stage 3']\n",
      " ['Stage 2']\n",
      " ['Stage 2']\n",
      " ['Stage 2']\n",
      " ['Stage 3']\n",
      " ['Stage 3']\n",
      " ['Stage 3']\n",
      " ['Stage 3']\n",
      " ['Stage 2']\n",
      " ['Stage 1']\n",
      " ['Stage 1']\n",
      " ['Stage 3']\n",
      " ['Stage 3']\n",
      " ['Stage 1']\n",
      " ['Stage 2']\n",
      " ['Stage 2']\n",
      " ['Stage 2']\n",
      " ['Stage 2']\n",
      " ['Stage 2']\n",
      " ['Stage 2']\n",
      " ['Stage 2']\n",
      " ['Stage 2']\n",
      " ['Stage 2']\n",
      " ['Stage 2']\n",
      " ['Stage 2']\n",
      " ['Stage 2']\n",
      " ['Stage 2']\n",
      " ['Stage 2']\n",
      " ['Stage 2']\n",
      " ['Stage 2']\n",
      " ['Stage 2']\n",
      " ['Stage 2']\n",
      " ['Stage 2']\n",
      " ['Stage 2']\n",
      " ['Stage 2']\n",
      " ['Stage 2']\n",
      " ['Stage 2']\n",
      " ['Stage 2']\n",
      " ['Stage 2']\n",
      " ['Stage 2']\n",
      " ['Stage 1']\n",
      " ['Stage 1']\n",
      " ['Stage 1']\n",
      " ['Stage 1']\n",
      " ['Stage 1']\n",
      " ['Stage 1']\n",
      " ['Stage 1']\n",
      " ['Stage 1']\n",
      " ['Stage 1']\n",
      " ['Stage 1']\n",
      " ['Stage 1']\n",
      " ['Stage 1']\n",
      " ['Stage 1']\n",
      " ['Stage 1']\n",
      " ['Stage 1']\n",
      " ['Stage 1']\n",
      " ['Stage 1']\n",
      " ['Stage 1']\n",
      " ['Stage 1']\n",
      " ['Stage 1']\n",
      " ['Stage 1']\n",
      " ['Stage 1']\n",
      " ['Stage 1']\n",
      " ['Stage 1']\n",
      " ['Stage 1']\n",
      " ['Stage 1']\n",
      " ['Stage 3']\n",
      " ['Stage 3']\n",
      " ['Stage 3']\n",
      " ['Stage 3']\n",
      " ['Stage 3']\n",
      " ['Stage 3']\n",
      " ['Stage 3']\n",
      " ['Stage 3']\n",
      " ['Stage 3']\n",
      " ['Stage 3']\n",
      " ['Stage 3']\n",
      " ['Stage 3']\n",
      " ['Stage 3']\n",
      " ['Stage 3']\n",
      " ['Stage 3']\n",
      " ['Stage 3']\n",
      " ['Stage 3']\n",
      " ['Stage 3']\n",
      " ['Stage 3']\n",
      " ['Stage 3']\n",
      " ['Stage 3']\n",
      " ['Stage 3']\n",
      " ['Stage 3']\n",
      " ['Stage 3']\n",
      " ['Stage 3']\n",
      " ['Stage 3']\n",
      " ['Stage 3']\n",
      " ['Stage 3']\n",
      " ['Stage 3']\n",
      " ['Stage 3']\n",
      " ['Stage 3']\n",
      " ['Stage 3']\n",
      " ['Stage 3']\n",
      " ['Stage 3']]\n"
     ]
    }
   ],
   "source": [
    "inputX = df.loc[:,['Area','Perimeter','Radius']].as_matrix()\n",
    "print inputX\n",
    "outputY = df.loc[:,['Label']].as_matrix()\n",
    "print outputY"
   ]
  },
  {
   "cell_type": "code",
   "execution_count": 10,
   "metadata": {
    "collapsed": false
   },
   "outputs": [
    {
     "data": {
      "text/plain": [
       "569"
      ]
     },
     "execution_count": 10,
     "metadata": {},
     "output_type": "execute_result"
    }
   ],
   "source": [
    "df2 = pd.read_csv('data.csv',sep = ',', header=0)\n",
    "df2.head()\n",
    "len(df2)"
   ]
  },
  {
   "cell_type": "code",
   "execution_count": 11,
   "metadata": {
    "collapsed": true
   },
   "outputs": [],
   "source": [
    "testX = df2.loc[:,['Area','Perimeter','Radius']].as_matrix()"
   ]
  },
  {
   "cell_type": "code",
   "execution_count": 12,
   "metadata": {
    "collapsed": false
   },
   "outputs": [],
   "source": [
    "clf = tree.DecisionTreeClassifier()\n",
    "outputY = outputY.ravel()\n",
    "clf.fit(inputX,outputY)\n",
    "predictions = clf.predict(testX)"
   ]
  },
  {
   "cell_type": "code",
   "execution_count": 13,
   "metadata": {
    "collapsed": false
   },
   "outputs": [
    {
     "name": "stdout",
     "output_type": "stream",
     "text": [
      "['Stage 2' 'Stage 2' 'Stage 1' 'Stage 2' 'Stage 2' 'Stage 2' 'Stage 2'\n",
      " 'Stage 2' 'Stage 2' 'Stage 2' 'Stage 2' 'Stage 2' 'Stage 1' 'Stage 2'\n",
      " 'Stage 2' 'Stage 2' 'Stage 2' 'Stage 2' 'Stage 1' 'Stage 2' 'Stage 2'\n",
      " 'Stage 3' 'Stage 2' 'Stage 2' 'Stage 2' 'Stage 2' 'Stage 2' 'Stage 2'\n",
      " 'Stage 2' 'Stage 2' 'Stage 2' 'Stage 2' 'Stage 2' 'Stage 2' 'Stage 2'\n",
      " 'Stage 2' 'Stage 2' 'Stage 2' 'Stage 2' 'Stage 2' 'Stage 2' 'Stage 2'\n",
      " 'Stage 1' 'Stage 2' 'Stage 2' 'Stage 2' 'Stage 3' 'Stage 2' 'Stage 2'\n",
      " 'Stage 2' 'Stage 2' 'Stage 2' 'Stage 2' 'Stage 2' 'Stage 2' 'Stage 2'\n",
      " 'Stage 2' 'Stage 2' 'Stage 2' 'Stage 3' 'Stage 3' 'Stage 3' 'Stage 2'\n",
      " 'Stage 3' 'Stage 2' 'Stage 2' 'Stage 3' 'Stage 2' 'Stage 3' 'Stage 2'\n",
      " 'Stage 2' 'Stage 3' 'Stage 2' 'Stage 2' 'Stage 2' 'Stage 2' 'Stage 2'\n",
      " 'Stage 2' 'Stage 1' 'Stage 2' 'Stage 2' 'Stage 2' 'Stage 2' 'Stage 1'\n",
      " 'Stage 2' 'Stage 2' 'Stage 2' 'Stage 2' 'Stage 2' 'Stage 2' 'Stage 2'\n",
      " 'Stage 2' 'Stage 2' 'Stage 2' 'Stage 2' 'Stage 2' 'Stage 2' 'Stage 3'\n",
      " 'Stage 2' 'Stage 2' 'Stage 2' 'Stage 1' 'Stage 2' 'Stage 3' 'Stage 3'\n",
      " 'Stage 2' 'Stage 2' 'Stage 2' 'Stage 2' 'Stage 2' 'Stage 1' 'Stage 2'\n",
      " 'Stage 2' 'Stage 3' 'Stage 3' 'Stage 2' 'Stage 3' 'Stage 2' 'Stage 2'\n",
      " 'Stage 2' 'Stage 2' 'Stage 2' 'Stage 2' 'Stage 2' 'Stage 2' 'Stage 2'\n",
      " 'Stage 2' 'Stage 2' 'Stage 2' 'Stage 1' 'Stage 2' 'Stage 2' 'Stage 2'\n",
      " 'Stage 2' 'Stage 2' 'Stage 2' 'Stage 2' 'Stage 2' 'Stage 2' 'Stage 2'\n",
      " 'Stage 1' 'Stage 2' 'Stage 2' 'Stage 2' 'Stage 1' 'Stage 2' 'Stage 2'\n",
      " 'Stage 2' 'Stage 2' 'Stage 2' 'Stage 2' 'Stage 3' 'Stage 3' 'Stage 2'\n",
      " 'Stage 2' 'Stage 2' 'Stage 2' 'Stage 2' 'Stage 2' 'Stage 2' 'Stage 2'\n",
      " 'Stage 2' 'Stage 1' 'Stage 2' 'Stage 2' 'Stage 2' 'Stage 1' 'Stage 2'\n",
      " 'Stage 2' 'Stage 2' 'Stage 2' 'Stage 2' 'Stage 2' 'Stage 2' 'Stage 1'\n",
      " 'Stage 3' 'Stage 2' 'Stage 2' 'Stage 2' 'Stage 2' 'Stage 2' 'Stage 2'\n",
      " 'Stage 2' 'Stage 2' 'Stage 2' 'Stage 3' 'Stage 2' 'Stage 2' 'Stage 2'\n",
      " 'Stage 2' 'Stage 2' 'Stage 2' 'Stage 1' 'Stage 2' 'Stage 2' 'Stage 2'\n",
      " 'Stage 2' 'Stage 2' 'Stage 2' 'Stage 2' 'Stage 2' 'Stage 2' 'Stage 2'\n",
      " 'Stage 2' 'Stage 2' 'Stage 2' 'Stage 3' 'Stage 2' 'Stage 2' 'Stage 2'\n",
      " 'Stage 2' 'Stage 2' 'Stage 2' 'Stage 2' 'Stage 2' 'Stage 2' 'Stage 2'\n",
      " 'Stage 3' 'Stage 1' 'Stage 2' 'Stage 2' 'Stage 2' 'Stage 3' 'Stage 2'\n",
      " 'Stage 2' 'Stage 2' 'Stage 3' 'Stage 2' 'Stage 2' 'Stage 2' 'Stage 2'\n",
      " 'Stage 2' 'Stage 2' 'Stage 2' 'Stage 3' 'Stage 2' 'Stage 2' 'Stage 2'\n",
      " 'Stage 2' 'Stage 2' 'Stage 2' 'Stage 2' 'Stage 2' 'Stage 2' 'Stage 1'\n",
      " 'Stage 1' 'Stage 2' 'Stage 2' 'Stage 1' 'Stage 2' 'Stage 2' 'Stage 2'\n",
      " 'Stage 1' 'Stage 2' 'Stage 2' 'Stage 2' 'Stage 1' 'Stage 2' 'Stage 2'\n",
      " 'Stage 2' 'Stage 2' 'Stage 2' 'Stage 2' 'Stage 2' 'Stage 2' 'Stage 2'\n",
      " 'Stage 1' 'Stage 2' 'Stage 2' 'Stage 1' 'Stage 2' 'Stage 2' 'Stage 2'\n",
      " 'Stage 1' 'Stage 2' 'Stage 2' 'Stage 2' 'Stage 2' 'Stage 2' 'Stage 2'\n",
      " 'Stage 2' 'Stage 2' 'Stage 2' 'Stage 2' 'Stage 2' 'Stage 2' 'Stage 2'\n",
      " 'Stage 2' 'Stage 2' 'Stage 2' 'Stage 2' 'Stage 2' 'Stage 2' 'Stage 2'\n",
      " 'Stage 2' 'Stage 2' 'Stage 2' 'Stage 2' 'Stage 2' 'Stage 3' 'Stage 1'\n",
      " 'Stage 2' 'Stage 1' 'Stage 3' 'Stage 2' 'Stage 2' 'Stage 2' 'Stage 3'\n",
      " 'Stage 2' 'Stage 2' 'Stage 2' 'Stage 2' 'Stage 2' 'Stage 2' 'Stage 3'\n",
      " 'Stage 2' 'Stage 2' 'Stage 2' 'Stage 3' 'Stage 2' 'Stage 3' 'Stage 2'\n",
      " 'Stage 2' 'Stage 2' 'Stage 2' 'Stage 2' 'Stage 2' 'Stage 2' 'Stage 2'\n",
      " 'Stage 2' 'Stage 2' 'Stage 2' 'Stage 2' 'Stage 2' 'Stage 2' 'Stage 2'\n",
      " 'Stage 2' 'Stage 2' 'Stage 3' 'Stage 2' 'Stage 2' 'Stage 3' 'Stage 2'\n",
      " 'Stage 1' 'Stage 2' 'Stage 3' 'Stage 2' 'Stage 2' 'Stage 2' 'Stage 2'\n",
      " 'Stage 2' 'Stage 2' 'Stage 2' 'Stage 2' 'Stage 2' 'Stage 2' 'Stage 2'\n",
      " 'Stage 2' 'Stage 3' 'Stage 3' 'Stage 2' 'Stage 2' 'Stage 2' 'Stage 2'\n",
      " 'Stage 2' 'Stage 2' 'Stage 1' 'Stage 2' 'Stage 2' 'Stage 2' 'Stage 2'\n",
      " 'Stage 2' 'Stage 2' 'Stage 2' 'Stage 2' 'Stage 2' 'Stage 1' 'Stage 2'\n",
      " 'Stage 2' 'Stage 2' 'Stage 2' 'Stage 2' 'Stage 2' 'Stage 2' 'Stage 2'\n",
      " 'Stage 2' 'Stage 2' 'Stage 2' 'Stage 2' 'Stage 1' 'Stage 3' 'Stage 3'\n",
      " 'Stage 2' 'Stage 2' 'Stage 2' 'Stage 2' 'Stage 2' 'Stage 2' 'Stage 2'\n",
      " 'Stage 2' 'Stage 2' 'Stage 2' 'Stage 2' 'Stage 2' 'Stage 2' 'Stage 2'\n",
      " 'Stage 2' 'Stage 2' 'Stage 2' 'Stage 2' 'Stage 2' 'Stage 2' 'Stage 3'\n",
      " 'Stage 2' 'Stage 2' 'Stage 2' 'Stage 3' 'Stage 2' 'Stage 2' 'Stage 2'\n",
      " 'Stage 2' 'Stage 2' 'Stage 2' 'Stage 2' 'Stage 1' 'Stage 3' 'Stage 3'\n",
      " 'Stage 1' 'Stage 2' 'Stage 2' 'Stage 2' 'Stage 2' 'Stage 1' 'Stage 2'\n",
      " 'Stage 2' 'Stage 2' 'Stage 2' 'Stage 2' 'Stage 2' 'Stage 2' 'Stage 2'\n",
      " 'Stage 2' 'Stage 2' 'Stage 1' 'Stage 2' 'Stage 2' 'Stage 2' 'Stage 2'\n",
      " 'Stage 2' 'Stage 2' 'Stage 2' 'Stage 2' 'Stage 2' 'Stage 2' 'Stage 2'\n",
      " 'Stage 2' 'Stage 2' 'Stage 2' 'Stage 2' 'Stage 1' 'Stage 2' 'Stage 2'\n",
      " 'Stage 2' 'Stage 2' 'Stage 2' 'Stage 2' 'Stage 2' 'Stage 1' 'Stage 2'\n",
      " 'Stage 2' 'Stage 1' 'Stage 2' 'Stage 2' 'Stage 2' 'Stage 2' 'Stage 2'\n",
      " 'Stage 2' 'Stage 2' 'Stage 2' 'Stage 2' 'Stage 2' 'Stage 2' 'Stage 2'\n",
      " 'Stage 2' 'Stage 2' 'Stage 2' 'Stage 2' 'Stage 1' 'Stage 2' 'Stage 2'\n",
      " 'Stage 2' 'Stage 2' 'Stage 2' 'Stage 2' 'Stage 2' 'Stage 2' 'Stage 2'\n",
      " 'Stage 2' 'Stage 2' 'Stage 2' 'Stage 2' 'Stage 2' 'Stage 2' 'Stage 2'\n",
      " 'Stage 3' 'Stage 3' 'Stage 2' 'Stage 2' 'Stage 2' 'Stage 2' 'Stage 2'\n",
      " 'Stage 2' 'Stage 2' 'Stage 2' 'Stage 2' 'Stage 2' 'Stage 2' 'Stage 1'\n",
      " 'Stage 2' 'Stage 2' 'Stage 3' 'Stage 2' 'Stage 2' 'Stage 2' 'Stage 3'\n",
      " 'Stage 3' 'Stage 2' 'Stage 2' 'Stage 2' 'Stage 2' 'Stage 2' 'Stage 2'\n",
      " 'Stage 2' 'Stage 2' 'Stage 2' 'Stage 2' 'Stage 2' 'Stage 2' 'Stage 1'\n",
      " 'Stage 1' 'Stage 2' 'Stage 2' 'Stage 2' 'Stage 2' 'Stage 2' 'Stage 2'\n",
      " 'Stage 3' 'Stage 3' 'Stage 1' 'Stage 1' 'Stage 2' 'Stage 2' 'Stage 2'\n",
      " 'Stage 3' 'Stage 2' 'Stage 3' 'Stage 3' 'Stage 3' 'Stage 2' 'Stage 2'\n",
      " 'Stage 2' 'Stage 2' 'Stage 2' 'Stage 2' 'Stage 2' 'Stage 1' 'Stage 2'\n",
      " 'Stage 2' 'Stage 1']\n"
     ]
    }
   ],
   "source": [
    "print(predictions)"
   ]
  },
  {
   "cell_type": "code",
   "execution_count": 14,
   "metadata": {
    "collapsed": false
   },
   "outputs": [
    {
     "name": "stdout",
     "output_type": "stream",
     "text": [
      "<type 'numpy.ndarray'>\n"
     ]
    }
   ],
   "source": [
    "print type(predictions)"
   ]
  },
  {
   "cell_type": "code",
   "execution_count": 15,
   "metadata": {
    "collapsed": false
   },
   "outputs": [],
   "source": [
    "predictions_list = predictions.tolist()"
   ]
  },
  {
   "cell_type": "code",
   "execution_count": 16,
   "metadata": {
    "collapsed": true
   },
   "outputs": [],
   "source": [
    "df2.loc[:,('Label')] = predictions_list"
   ]
  },
  {
   "cell_type": "code",
   "execution_count": 17,
   "metadata": {
    "collapsed": false
   },
   "outputs": [
    {
     "data": {
      "text/html": [
       "<div>\n",
       "<table border=\"1\" class=\"dataframe\">\n",
       "  <thead>\n",
       "    <tr style=\"text-align: right;\">\n",
       "      <th></th>\n",
       "      <th>Area</th>\n",
       "      <th>Perimeter</th>\n",
       "      <th>Radius</th>\n",
       "      <th>Label</th>\n",
       "    </tr>\n",
       "  </thead>\n",
       "  <tbody>\n",
       "    <tr>\n",
       "      <th>0</th>\n",
       "      <td>1001.0</td>\n",
       "      <td>122.80</td>\n",
       "      <td>17.99</td>\n",
       "      <td>Stage 2</td>\n",
       "    </tr>\n",
       "    <tr>\n",
       "      <th>1</th>\n",
       "      <td>1326.0</td>\n",
       "      <td>132.90</td>\n",
       "      <td>20.57</td>\n",
       "      <td>Stage 2</td>\n",
       "    </tr>\n",
       "    <tr>\n",
       "      <th>2</th>\n",
       "      <td>1203.0</td>\n",
       "      <td>130.00</td>\n",
       "      <td>19.69</td>\n",
       "      <td>Stage 1</td>\n",
       "    </tr>\n",
       "    <tr>\n",
       "      <th>3</th>\n",
       "      <td>386.1</td>\n",
       "      <td>77.58</td>\n",
       "      <td>11.42</td>\n",
       "      <td>Stage 2</td>\n",
       "    </tr>\n",
       "    <tr>\n",
       "      <th>4</th>\n",
       "      <td>1297.0</td>\n",
       "      <td>135.10</td>\n",
       "      <td>20.29</td>\n",
       "      <td>Stage 2</td>\n",
       "    </tr>\n",
       "  </tbody>\n",
       "</table>\n",
       "</div>"
      ],
      "text/plain": [
       "     Area  Perimeter  Radius    Label\n",
       "0  1001.0     122.80   17.99  Stage 2\n",
       "1  1326.0     132.90   20.57  Stage 2\n",
       "2  1203.0     130.00   19.69  Stage 1\n",
       "3   386.1      77.58   11.42  Stage 2\n",
       "4  1297.0     135.10   20.29  Stage 2"
      ]
     },
     "execution_count": 17,
     "metadata": {},
     "output_type": "execute_result"
    }
   ],
   "source": [
    "df2.head()"
   ]
  },
  {
   "cell_type": "code",
   "execution_count": 18,
   "metadata": {
    "collapsed": false
   },
   "outputs": [],
   "source": [
    "df2.to_csv('data.csv',index=False)"
   ]
  },
  {
   "cell_type": "code",
   "execution_count": null,
   "metadata": {
    "collapsed": true
   },
   "outputs": [],
   "source": []
  },
  {
   "cell_type": "code",
   "execution_count": null,
   "metadata": {
    "collapsed": true
   },
   "outputs": [],
   "source": []
  }
 ],
 "metadata": {
  "anaconda-cloud": {},
  "kernelspec": {
   "display_name": "Python [Root]",
   "language": "python",
   "name": "Python [Root]"
  },
  "language_info": {
   "codemirror_mode": {
    "name": "ipython",
    "version": 2
   },
   "file_extension": ".py",
   "mimetype": "text/x-python",
   "name": "python",
   "nbconvert_exporter": "python",
   "pygments_lexer": "ipython2",
   "version": "2.7.11"
  }
 },
 "nbformat": 4,
 "nbformat_minor": 0
}
